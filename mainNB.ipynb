{
 "cells": [
  {
   "cell_type": "code",
   "execution_count": 1,
   "metadata": {},
   "outputs": [],
   "source": [
    "import numpy as np\n",
    "import pandas as pd\n",
    "import torch\n",
    "import os\n",
    "import matplotlib.pyplot as plt\n",
    "from PIL import Image\n"
   ]
  },
  {
   "cell_type": "code",
   "execution_count": 2,
   "metadata": {},
   "outputs": [
    {
     "name": "stdout",
     "output_type": "stream",
     "text": [
      "Requirement already satisfied: kaggle in c:\\users\\pauline\\miniconda3\\lib\\site-packages (1.6.17)\n",
      "Requirement already satisfied: six>=1.10 in c:\\users\\pauline\\appdata\\roaming\\python\\python312\\site-packages (from kaggle) (1.16.0)\n",
      "Requirement already satisfied: certifi>=2023.7.22 in c:\\users\\pauline\\miniconda3\\lib\\site-packages (from kaggle) (2024.8.30)\n",
      "Requirement already satisfied: python-dateutil in c:\\users\\pauline\\appdata\\roaming\\python\\python312\\site-packages (from kaggle) (2.9.0.post0)\n",
      "Requirement already satisfied: requests in c:\\users\\pauline\\miniconda3\\lib\\site-packages (from kaggle) (2.31.0)\n",
      "Requirement already satisfied: tqdm in c:\\users\\pauline\\miniconda3\\lib\\site-packages (from kaggle) (4.65.0)\n",
      "Requirement already satisfied: python-slugify in c:\\users\\pauline\\miniconda3\\lib\\site-packages (from kaggle) (8.0.4)\n",
      "Requirement already satisfied: urllib3 in c:\\users\\pauline\\miniconda3\\lib\\site-packages (from kaggle) (2.1.0)\n",
      "Requirement already satisfied: bleach in c:\\users\\pauline\\miniconda3\\lib\\site-packages (from kaggle) (6.2.0)\n",
      "Requirement already satisfied: webencodings in c:\\users\\pauline\\miniconda3\\lib\\site-packages (from bleach->kaggle) (0.5.1)\n",
      "Requirement already satisfied: text-unidecode>=1.3 in c:\\users\\pauline\\miniconda3\\lib\\site-packages (from python-slugify->kaggle) (1.3)\n",
      "Requirement already satisfied: charset-normalizer<4,>=2 in c:\\users\\pauline\\miniconda3\\lib\\site-packages (from requests->kaggle) (2.0.4)\n",
      "Requirement already satisfied: idna<4,>=2.5 in c:\\users\\pauline\\miniconda3\\lib\\site-packages (from requests->kaggle) (3.4)\n",
      "Requirement already satisfied: colorama in c:\\users\\pauline\\miniconda3\\lib\\site-packages (from tqdm->kaggle) (0.4.6)\n",
      "Dataset URL: https://www.kaggle.com/datasets/sshikamaru/udacity-self-driving-car-dataset\n",
      "License(s): other\n",
      "udacity-self-driving-car-dataset.zip: Skipping, found more recently modified local copy (use --force to force download)\n"
     ]
    }
   ],
   "source": [
    "!pip install kaggle\n",
    "\n",
    "!kaggle datasets download -d sshikamaru/udacity-self-driving-car-dataset\n"
   ]
  },
  {
   "cell_type": "code",
   "execution_count": 7,
   "metadata": {},
   "outputs": [],
   "source": [
    "dataset_path = '/Users/Pauline/autonomous-vehicle-classifier/udacity-self-driving-car-dataset/data/export'\n",
    "annotatinos_path = '/Users/Pauline/autonomous-vehicle-classifier/udacity-self-driving-car-dataset/data/export/_annotations.csv'"
   ]
  },
  {
   "cell_type": "code",
   "execution_count": 18,
   "metadata": {},
   "outputs": [
    {
     "data": {
      "text/html": [
       "<div>\n",
       "<style scoped>\n",
       "    .dataframe tbody tr th:only-of-type {\n",
       "        vertical-align: middle;\n",
       "    }\n",
       "\n",
       "    .dataframe tbody tr th {\n",
       "        vertical-align: top;\n",
       "    }\n",
       "\n",
       "    .dataframe thead th {\n",
       "        text-align: right;\n",
       "    }\n",
       "</style>\n",
       "<table border=\"1\" class=\"dataframe\">\n",
       "  <thead>\n",
       "    <tr style=\"text-align: right;\">\n",
       "      <th></th>\n",
       "      <th>filename</th>\n",
       "      <th>width</th>\n",
       "      <th>height</th>\n",
       "      <th>class</th>\n",
       "      <th>xmin</th>\n",
       "      <th>ymin</th>\n",
       "      <th>xmax</th>\n",
       "      <th>ymax</th>\n",
       "    </tr>\n",
       "  </thead>\n",
       "  <tbody>\n",
       "    <tr>\n",
       "      <th>0</th>\n",
       "      <td>1478900859981702684_jpg.rf.6830635c7d919747563...</td>\n",
       "      <td>512</td>\n",
       "      <td>512</td>\n",
       "      <td>car</td>\n",
       "      <td>291</td>\n",
       "      <td>247</td>\n",
       "      <td>370</td>\n",
       "      <td>331</td>\n",
       "    </tr>\n",
       "    <tr>\n",
       "      <th>1</th>\n",
       "      <td>1478900859981702684_jpg.rf.6830635c7d919747563...</td>\n",
       "      <td>512</td>\n",
       "      <td>512</td>\n",
       "      <td>pedestrian</td>\n",
       "      <td>270</td>\n",
       "      <td>235</td>\n",
       "      <td>293</td>\n",
       "      <td>321</td>\n",
       "    </tr>\n",
       "    <tr>\n",
       "      <th>2</th>\n",
       "      <td>1478900859981702684_jpg.rf.6830635c7d919747563...</td>\n",
       "      <td>512</td>\n",
       "      <td>512</td>\n",
       "      <td>car</td>\n",
       "      <td>0</td>\n",
       "      <td>266</td>\n",
       "      <td>13</td>\n",
       "      <td>327</td>\n",
       "    </tr>\n",
       "    <tr>\n",
       "      <th>3</th>\n",
       "      <td>1478900859981702684_jpg.rf.6830635c7d919747563...</td>\n",
       "      <td>512</td>\n",
       "      <td>512</td>\n",
       "      <td>car</td>\n",
       "      <td>25</td>\n",
       "      <td>258</td>\n",
       "      <td>106</td>\n",
       "      <td>304</td>\n",
       "    </tr>\n",
       "    <tr>\n",
       "      <th>4</th>\n",
       "      <td>1478900859981702684_jpg.rf.6830635c7d919747563...</td>\n",
       "      <td>512</td>\n",
       "      <td>512</td>\n",
       "      <td>car</td>\n",
       "      <td>111</td>\n",
       "      <td>259</td>\n",
       "      <td>135</td>\n",
       "      <td>289</td>\n",
       "    </tr>\n",
       "  </tbody>\n",
       "</table>\n",
       "</div>"
      ],
      "text/plain": [
       "                                            filename  width  height  \\\n",
       "0  1478900859981702684_jpg.rf.6830635c7d919747563...    512     512   \n",
       "1  1478900859981702684_jpg.rf.6830635c7d919747563...    512     512   \n",
       "2  1478900859981702684_jpg.rf.6830635c7d919747563...    512     512   \n",
       "3  1478900859981702684_jpg.rf.6830635c7d919747563...    512     512   \n",
       "4  1478900859981702684_jpg.rf.6830635c7d919747563...    512     512   \n",
       "\n",
       "        class  xmin  ymin  xmax  ymax  \n",
       "0         car   291   247   370   331  \n",
       "1  pedestrian   270   235   293   321  \n",
       "2         car     0   266    13   327  \n",
       "3         car    25   258   106   304  \n",
       "4         car   111   259   135   289  "
      ]
     },
     "execution_count": 18,
     "metadata": {},
     "output_type": "execute_result"
    }
   ],
   "source": [
    "annotations_path = os.path.join(dataset_path, '_annotations.csv')\n",
    "annotations = pd.read_csv(annotations_path)\n",
    "\n",
    "annotations.head()\n"
   ]
  },
  {
   "cell_type": "code",
   "execution_count": null,
   "metadata": {},
   "outputs": [],
   "source": [
    "group_annotations = annotations.groupby('filename')\n",
    "image_file = ''"
   ]
  }
 ],
 "metadata": {
  "kernelspec": {
   "display_name": "base",
   "language": "python",
   "name": "python3"
  },
  "language_info": {
   "codemirror_mode": {
    "name": "ipython",
    "version": 3
   },
   "file_extension": ".py",
   "mimetype": "text/x-python",
   "name": "python",
   "nbconvert_exporter": "python",
   "pygments_lexer": "ipython3",
   "version": "3.12.2"
  }
 },
 "nbformat": 4,
 "nbformat_minor": 2
}
